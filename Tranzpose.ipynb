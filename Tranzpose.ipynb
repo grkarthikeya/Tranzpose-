{
 "cells": [
  {
   "cell_type": "code",
   "execution_count": null,
   "id": "a452e34f",
   "metadata": {},
   "outputs": [],
   "source": [
    "from moviepy.editor import VideoFileClip\n",
    "from pydub import AudioSegment\n",
    "from pydub.playback import play\n",
    "\n",
    "def extract_audio(video_file):\n",
    "    video = VideoFileClip(video_file)\n",
    "    audio = video.audio\n",
    "    return audio\n",
    "\n",
    "def reduce_background_noise(audio_file):\n",
    "    # Implement noise reduction techniques using pydub or other libraries\n",
    "    # Example: apply high-pass filter, noise reduction algorithms\n",
    "    # Return cleaned audio\n",
    "    return cleaned_audio\n"
   ]
  },
  {
   "cell_type": "code",
   "execution_count": null,
   "id": "b97c1006",
   "metadata": {},
   "outputs": [],
   "source": [
    "from google.cloud import speech_v1\n",
    "from google.cloud.speech_v1 import enums\n",
    "\n",
    "def speech_to_text(audio_file):\n",
    "    client = speech_v1.SpeechClient()\n",
    "\n",
    "    # Load audio file\n",
    "    with open(audio_file, \"rb\") as audio_file:\n",
    "        content = audio_file.read()\n",
    "\n",
    "    audio = {\"content\": content}\n",
    "\n",
    "    # Configure speech recognition settings\n",
    "    config = {\n",
    "        \"language_code\": \"en-US\",\n",
    "    }\n",
    "\n",
    "    # Perform speech recognition\n",
    "    response = client.recognize(config=config, audio=audio)\n",
    "\n",
    "    # Process and return transcriptions\n",
    "    transcriptions = [result.alternatives[0].transcript for result in response.results]\n",
    "    return transcriptions\n"
   ]
  },
  {
   "cell_type": "code",
   "execution_count": null,
   "id": "44295788",
   "metadata": {},
   "outputs": [],
   "source": [
    "import nltk\n",
    "from nltk.sentiment import SentimentIntensityAnalyzer\n",
    "import spacy\n",
    "\n",
    "nltk.download('vader_lexicon')\n",
    "nlp = spacy.load(\"en_core_web_sm\")\n",
    "\n",
    "def evaluate_communication(text):\n",
    "    # Sentiment analysis\n",
    "    sia = SentimentIntensityAnalyzer()\n",
    "    sentiment_score = sia.polarity_scores(text)\n",
    "\n",
    "    # Tokenize and parse for grammar analysis\n",
    "    doc = nlp(text)\n",
    "    grammar_errors = [token.text for token in doc if token.pos_ == 'VERB' and token.tag_ == 'VBZ']\n",
    "\n",
    "    return sentiment_score, grammar_errors\n"
   ]
  }
 ],
 "metadata": {
  "kernelspec": {
   "display_name": "Python 3 (ipykernel)",
   "language": "python",
   "name": "python3"
  },
  "language_info": {
   "codemirror_mode": {
    "name": "ipython",
    "version": 3
   },
   "file_extension": ".py",
   "mimetype": "text/x-python",
   "name": "python",
   "nbconvert_exporter": "python",
   "pygments_lexer": "ipython3",
   "version": "3.11.5"
  }
 },
 "nbformat": 4,
 "nbformat_minor": 5
}
